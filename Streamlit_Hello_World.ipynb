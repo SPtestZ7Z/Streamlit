{
  "nbformat": 4,
  "nbformat_minor": 0,
  "metadata": {
    "colab": {
      "provenance": [],
      "authorship_tag": "ABX9TyM3tO5M/ZD30Uihyn4dzhk2",
      "include_colab_link": true
    },
    "kernelspec": {
      "name": "python3",
      "display_name": "Python 3"
    },
    "language_info": {
      "name": "python"
    }
  },
  "cells": [
    {
      "cell_type": "markdown",
      "metadata": {
        "id": "view-in-github",
        "colab_type": "text"
      },
      "source": [
        "<a href=\"https://colab.research.google.com/github/SPtestZ7Z/Streamlit/blob/main/Streamlit_Hello_World.ipynb\" target=\"_parent\"><img src=\"https://colab.research.google.com/assets/colab-badge.svg\" alt=\"Open In Colab\"/></a>"
      ]
    },
    {
      "cell_type": "markdown",
      "source": [
        "# **A simple streamlit app**"
      ],
      "metadata": {
        "id": "2keqhAt1ZBNd"
      }
    },
    {
      "cell_type": "markdown",
      "source": [
        "This is the basic outline of a streamlit ap. There are two possible routes - localtunnel and ngrok. In recent times localtunnel has changed and no longer allows direct access. Click on the final temporary URL and enter the password goven earlier"
      ],
      "metadata": {
        "id": "aEt4d3Z4gPpl"
      }
    },
    {
      "cell_type": "code",
      "execution_count": null,
      "metadata": {
        "id": "qnY8bxqQYJdh"
      },
      "outputs": [],
      "source": [
        "!pip install -q streamlit"
      ]
    },
    {
      "cell_type": "markdown",
      "source": [
        "**App code**"
      ],
      "metadata": {
        "id": "QjkEZFqZZa0k"
      }
    },
    {
      "source": [
        "%%writefile app.py\n",
        "import streamlit as st\n",
        "\n",
        "st.title(\"Hello App\")\n",
        "\n",
        "user_name = st.text_input(\"Enter your name:\")\n",
        "\n",
        "if st.button(\"Say Hello\"):\n",
        "    st.write(f\"Hello {user_name}!\")"
      ],
      "cell_type": "code",
      "metadata": {
        "colab": {
          "base_uri": "https://localhost:8080/"
        },
        "id": "L-ndscCWY8yE",
        "outputId": "84b02b11-9ece-4170-b225-c0c2a282483b"
      },
      "execution_count": null,
      "outputs": [
        {
          "output_type": "stream",
          "name": "stdout",
          "text": [
            "Overwriting app.py\n"
          ]
        }
      ]
    },
    {
      "cell_type": "markdown",
      "source": [
        "**Run the app**"
      ],
      "metadata": {
        "id": "V3690enskQks"
      }
    },
    {
      "cell_type": "markdown",
      "source": [
        "Get password deom below - in the form of XX.XX.XX.XXX"
      ],
      "metadata": {
        "id": "6MR_caH6kUgQ"
      }
    },
    {
      "cell_type": "code",
      "source": [
        "!curl https://loca.lt/mytunnelpassword"
      ],
      "metadata": {
        "colab": {
          "base_uri": "https://localhost:8080/"
        },
        "id": "i25HZiYPjJ08",
        "outputId": "58f1d912-d928-4423-c9c4-0ae81e5190d2"
      },
      "execution_count": null,
      "outputs": [
        {
          "output_type": "stream",
          "name": "stdout",
          "text": [
            "34.45.37.124"
          ]
        }
      ]
    },
    {
      "cell_type": "markdown",
      "source": [
        "Run the app"
      ],
      "metadata": {
        "id": "1tUTyXeKkbnv"
      }
    },
    {
      "cell_type": "code",
      "source": [
        "!streamlit run app.py &>/content/logs.txt &"
      ],
      "metadata": {
        "id": "fP80W6XMjQKZ"
      },
      "execution_count": null,
      "outputs": []
    },
    {
      "cell_type": "code",
      "source": [
        "!npx localtunnel --port 8501"
      ],
      "metadata": {
        "colab": {
          "base_uri": "https://localhost:8080/"
        },
        "id": "_CeAcQxUjUJu",
        "outputId": "20d53ba7-c1fd-40b8-af9f-b480edd19e97"
      },
      "execution_count": null,
      "outputs": [
        {
          "output_type": "stream",
          "name": "stdout",
          "text": [
            "\u001b[1G\u001b[0K⠙\u001b[1G\u001b[0Kyour url is: https://clear-hands-buy.loca.lt\n"
          ]
        }
      ]
    }
  ]
}